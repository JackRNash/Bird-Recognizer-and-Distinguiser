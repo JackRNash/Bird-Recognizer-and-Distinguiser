{
 "cells": [
  {
   "cell_type": "code",
   "execution_count": 1,
   "metadata": {},
   "outputs": [
    {
     "name": "stdout",
     "output_type": "stream",
     "text": [
      "GPU Available:  True\n",
      "Initializing Datasets and Dataloaders...\n"
     ]
    },
    {
     "name": "stderr",
     "output_type": "stream",
     "text": [
      "100%|██████████████████████████████████████████████████████████████████████████████████| 61/61 [00:09<00:00,  6.72it/s]\n",
      "  0%|                                                                                          | 0/280 [00:00<?, ?it/s]"
     ]
    },
    {
     "name": "stdout",
     "output_type": "stream",
     "text": [
      "Validation accuracy 94.39%\n",
      "[(0, 'bald_eagle'), (1, 'barn_owl'), (2, 'belted_kingfisher'), (3, 'blue_jay'), (4, 'chipping_sparrow'), (5, 'osprey'), (6, 'red_bellied_woodpecker'), (7, 'red_tailed_hawk'), (8, 'red_winged_blackbird'), (9, 'tree_swallow')]\n",
      "[10, 8, 8, 10, 10, 8, 9, 9, 9, 8]\n",
      "[0, 0, 0, 0, 0, 1, 0, 1, 0, 0]\n"
     ]
    },
    {
     "name": "stderr",
     "output_type": "stream",
     "text": [
      "100%|████████████████████████████████████████████████████████████████████████████████| 280/280 [00:12<00:00, 22.93it/s]"
     ]
    },
    {
     "name": "stdout",
     "output_type": "stream",
     "text": [
      "Train accuracy 94.11%\n",
      "[10, 8, 9, 9, 10, 8, 9, 9, 9, 8]\n",
      "[0, 0, 0, 0, 0, 2, 0, 1, 0, 0]\n"
     ]
    },
    {
     "name": "stderr",
     "output_type": "stream",
     "text": [
      "\n"
     ]
    }
   ],
   "source": [
    "import torch\n",
    "import torch.nn as nn\n",
    "import torch.optim as optim\n",
    "import numpy as np\n",
    "import torchvision\n",
    "from torchvision import datasets, models, transforms\n",
    "import matplotlib.pyplot as plt\n",
    "import time\n",
    "import os\n",
    "import copy\n",
    "from tqdm import tqdm\n",
    "torch.manual_seed(4701)\n",
    "np.random.seed(4701)\n",
    "\n",
    "# code taken & adapted from https://pytorch.org/tutorials/beginner/finetuning_torchvision_models_tutorial.html\n",
    "\n",
    "# Variables all proccesses need access to\n",
    "# train_dir = '../../dataset/train/'\n",
    "# validation_dir = '../../dataset/validation/'\n",
    "load_mode = True\n",
    "data_dir = '../../dataset/'\n",
    "model_name = 'resnet'\n",
    "num_classes = 10\n",
    "batch_size = 8\n",
    "num_epochs = 5\n",
    "input_size = 224 # 224 x 224 images expected for resnet\n",
    "\n",
    "def train_model(model, dataloaders, criterion, optimizer, num_epochs=15):\n",
    "    \"\"\"\n",
    "    Returns a trained model. \n",
    "    \n",
    "    Trains the input model using the provided data, criterion, and optimizer.\n",
    "\n",
    "    Parameter model: model to be trained\n",
    "\n",
    "    Parameter dataloaders: dictionary of dataloaders for training and validation\n",
    "    Precondition: dataloders bound to keys 'train' and 'val'\n",
    "\n",
    "    Parameter criterion: criterion for evaluating loss\n",
    "\n",
    "    Parameter optimizer: optimizer to be used when training\n",
    "\n",
    "    Parameter num_epochs: number of epochs to train\n",
    "\n",
    "    \"\"\"\n",
    "    since = time.time()\n",
    "\n",
    "    val_acc_history = []\n",
    "\n",
    "    best_model_wts = copy.deepcopy(model.state_dict())\n",
    "    best_acc = 0.0\n",
    "\n",
    "    for epoch in range(num_epochs):\n",
    "        print('Epoch {}/{}'.format(epoch, num_epochs - 1))\n",
    "        print('-' * 10)\n",
    "\n",
    "        # Each epoch has a training and validation phase\n",
    "        for phase in ['train', 'val']:\n",
    "            if phase == 'train':\n",
    "                model.train()\n",
    "            else:\n",
    "                model.eval()\n",
    "\n",
    "            running_loss = 0.0\n",
    "            running_corrects = 0\n",
    "\n",
    "            # Iterate over data.\n",
    "            for inputs, labels in tqdm(dataloaders[phase]):\n",
    "                inputs = inputs.to(device)\n",
    "                labels = labels.to(device)\n",
    "\n",
    "                # zero the parameter gradients\n",
    "                optimizer.zero_grad()\n",
    "\n",
    "                # forward pass\n",
    "                with torch.set_grad_enabled(phase == 'train'):\n",
    "                    # Get model outputs and calculate loss\n",
    "                    outputs = model(inputs)\n",
    "                    loss = criterion(outputs, labels)\n",
    "\n",
    "                    _, preds = torch.max(outputs, 1)\n",
    "\n",
    "                    # backward pass (if training)\n",
    "                    if phase == 'train':\n",
    "                        loss.backward()\n",
    "                        optimizer.step()\n",
    "\n",
    "                # statistics\n",
    "                running_loss += loss.item() * inputs.size(0)\n",
    "                running_corrects += torch.sum(preds == labels.data)\n",
    "\n",
    "            epoch_loss = running_loss / len(dataloaders[phase].dataset)\n",
    "            epoch_acc = running_corrects.double() / len(dataloaders[phase].dataset)\n",
    "\n",
    "            print('{} Loss: {:.4f} Acc: {:.4f}'.format(phase, epoch_loss, epoch_acc))\n",
    "\n",
    "            # deep copy the model\n",
    "            if phase == 'val' and epoch_acc > best_acc:\n",
    "                best_acc = epoch_acc\n",
    "                best_model_wts = copy.deepcopy(model.state_dict())\n",
    "            if phase == 'val':\n",
    "                val_acc_history.append(epoch_acc)\n",
    "\n",
    "        print()\n",
    "\n",
    "    time_elapsed = time.time() - since\n",
    "    print('Training complete in {:.0f}m {:.0f}s'.format(time_elapsed // 60, time_elapsed % 60))\n",
    "    print('Best val Acc: {:4f}'.format(best_acc))\n",
    "\n",
    "    # load best model weights\n",
    "    model.load_state_dict(best_model_wts)\n",
    "    return model, val_acc_history\n",
    "\n",
    "def histogram(counts, n = 10):\n",
    "    \"\"\"\n",
    "    Returns a histogram of the input list of counts\n",
    "\n",
    "    Histogram takes in a list with values in the range 0,...,n and returns a list \n",
    "    where the ith element is the number of times i appeared in counts\n",
    "    \"\"\"\n",
    "    hist = [0]*n\n",
    "    for d in counts:\n",
    "        hist[d] += 1\n",
    "    return hist\n",
    "\n",
    "def eval(model, dataloader):\n",
    "    running_corrects = 0\n",
    "    incorrects, corrects = [], []\n",
    "    for data, labels in tqdm(dataloader):\n",
    "        data = data.to(device)\n",
    "        labels = labels.to(device)\n",
    "\n",
    "        with torch.set_grad_enabled(False):\n",
    "            outputs = model(data)\n",
    "            _, preds = torch.max(outputs, 1)\n",
    "\n",
    "            running_corrects += torch.sum(preds == labels.data)\n",
    "            incorrects += [x.item() for x in preds[preds != labels.data]]\n",
    "            corrects += [x.item() for x in preds[preds == labels.data]]\n",
    "    # print(incorrects)\n",
    "    return running_corrects.double() / len(dataloader.dataset), corrects, incorrects\n",
    "\n",
    "def freeze(model):\n",
    "    \"\"\"\n",
    "    Freezes every layer in the model.\n",
    "\n",
    "    By freezing each layer, no updates are made to the weights of the model\n",
    "    when training.\n",
    "    \"\"\"\n",
    "    for param in model.parameters():\n",
    "        param.requires_grad = False\n",
    "\n",
    "def initialize_model(num_classes, pretrain=True):\n",
    "    \"\"\"\n",
    "    Returns an initialized resnet=18 model.\n",
    "\n",
    "    Initializes a resnet-18 model. If pretrained, then we\n",
    "    use the pretrained weights and freeze the model. Otherwise,\n",
    "    a fresh model with resnet-18 architecture is used. A linear\n",
    "    layer is appended so the output is num_classes.\n",
    "    \"\"\"\n",
    "    model = models.resnet18(pretrained=pretrain)\n",
    "    if pretrain:\n",
    "        freeze(model)\n",
    "    num_features = model.fc.in_features\n",
    "    model.fc = nn.Linear(num_features, num_classes)\n",
    "    return model\n",
    "\n",
    "\n",
    "def calc_mean_std(dataloader):\n",
    "    \"\"\"\n",
    "    Returns a list of the average RGB values and a list of the standard of\n",
    "    the RGB values.\n",
    "\n",
    "    Extracts the mean and standard of RGB values of every image in dataloader\n",
    "    and then returns the average.\n",
    "\n",
    "    Parameter dataloader: images to find the mean and standard of\n",
    "    Precondition: dataloader is a Torch dataloader object\n",
    "\n",
    "    CITATION: This function was taken and adapted from the following source:\n",
    "        https://forums.fast.ai/t/image-normalization-in-pytorch/7534/7\n",
    "    \"\"\"\n",
    "    mean = []\n",
    "    std = []\n",
    "\n",
    "    # Find and append the mean and standard of each image in dataloader\n",
    "    for data in dataloader:\n",
    "        img, _ = data\n",
    "\n",
    "        batch_mean = torch.mean(img, (0,2,3))\n",
    "        batch_std = torch.std(img, (0,2,3))\n",
    "\n",
    "        mean.append(batch_mean)\n",
    "        std.append(batch_std)\n",
    "\n",
    "    # Find and return the mean and standard of every image in dataloader\n",
    "    mean = np.mean([m.numpy() for m in mean], axis=0)\n",
    "    std = np.mean([s.numpy() for s in std], axis=0)\n",
    "\n",
    "    return mean, std\n",
    "\n",
    "def preprocess_data():\n",
    "    \"\"\"\n",
    "    Returns the transformation necessary to normalize the image data.\n",
    "\n",
    "    Creates a normalization transformation that results in the training data\n",
    "    having a mean of 0 and a standard deviation of 1.\n",
    "    \"\"\"\n",
    "    transform = transforms.Compose([\n",
    "        transforms.ToTensor()\n",
    "    ])\n",
    "\n",
    "    # Creates a dataloader object for the training and validation sets\n",
    "    train_dataset = datasets.ImageFolder(os.path.join(data_dir, 'train'), \\\n",
    "        transform)\n",
    "    train_dataloader = torch.utils.data.DataLoader(train_dataset, \\\n",
    "        batch_size=batch_size, shuffle=True, num_workers=4)\n",
    "\n",
    "    mean, std = calc_mean_std(train_dataloader)\n",
    "\n",
    "    return transforms.Compose([\n",
    "        transforms.ToTensor(),\n",
    "        transforms.Normalize(mean,std)\n",
    "    ])\n",
    "\n",
    "\n",
    "if __name__ == '__main__':\n",
    "    print('GPU Available: ', torch.cuda.is_available())\n",
    "    model_ft = initialize_model(num_classes)\n",
    "    transforms = preprocess_data()\n",
    "\n",
    "    print(\"Initializing Datasets and Dataloaders...\")\n",
    "    image_datasets = {x: datasets.ImageFolder(os.path.join(data_dir, x if x == 'train' else 'validation'), transforms) for x in ['train', 'val']}\n",
    "    dataloaders_dict = {x: torch.utils.data.DataLoader(image_datasets[x], batch_size=batch_size, shuffle=True, num_workers=4) for x in ['train', 'val']}\n",
    "\n",
    "    classes = image_datasets['train'].classes\n",
    "\n",
    "    # Determine device (GPU if available, else CPU) & send model to it\n",
    "    device = torch.device(\"cuda:0\" if torch.cuda.is_available() else \"cpu\")\n",
    "    model_ft = model_ft.to(device)\n",
    "\n",
    "    # Gather the parameters to be optimized/updated in this run. If we are\n",
    "    #  finetuning we will be updating all parameters. However, if we are\n",
    "    #  doing feature extract method, we will only update the parameters\n",
    "    #  that we have just initialized, i.e. the parameters with requires_grad\n",
    "    #  is True.\n",
    "    # params_to_update = model_ft.parameters()\n",
    "    params_to_update = []\n",
    "    for name,param in model_ft.named_parameters():\n",
    "        if param.requires_grad == True:\n",
    "            params_to_update.append(param)\n",
    "\n",
    "    # Observe that all parameters are being optimized\n",
    "    optimizer_ft = optim.SGD(params_to_update, lr=0.001, momentum=0.9)\n",
    "    # Setup the loss fxn    \n",
    "    criterion = nn.CrossEntropyLoss()\n",
    "\n",
    "    # Train and evaluate\n",
    "    if not load_mode:\n",
    "        model_ft, hist = train_model(model_ft, dataloaders_dict, criterion, optimizer_ft, num_epochs=num_epochs)\n",
    "        torch.save(model_ft, 'model')\n",
    "        torch.save(hist, 'histogram')\n",
    "    else:\n",
    "        model_ft = torch.load('model')\n",
    "        model_ft.to(device)\n",
    "        hist = torch.load('histogram')\n",
    "    \n",
    "    val_acc, corrects, incorrects = eval(model_ft, dataloaders_dict['val'])\n",
    "    print('Validation accuracy {:.2f}%'.format(val_acc*100))\n",
    "    hist_corrects = histogram(corrects)\n",
    "    hist_incorrects = histogram(incorrects)\n",
    "    total_correct = sum(hist_corrects)\n",
    "    total_incorrect = sum(hist_incorrects)\n",
    "    print([(i, x) for i, x in enumerate(classes)])\n",
    "    print([int(100*x/(total_correct+total_incorrect)) for x in hist_corrects])\n",
    "    print([int(100*x/(total_correct+total_incorrect)) for x in hist_incorrects])\n",
    "\n",
    "    train_acc, corrects, incorrects = eval(model_ft, dataloaders_dict['train'])\n",
    "    print('Train accuracy {:.2f}%'.format(train_acc*100))\n",
    "    hist_corrects = histogram(corrects)\n",
    "    hist_incorrects = histogram(incorrects)\n",
    "    total_correct = sum(hist_corrects)\n",
    "    total_incorrect = sum(hist_incorrects)\n",
    "    print([int(100*x/(total_correct+total_incorrect)) for x in hist_corrects])\n",
    "    print([int(100*x/(total_correct+total_incorrect)) for x in hist_incorrects])\n",
    "    "
   ]
  },
  {
   "cell_type": "code",
   "execution_count": 36,
   "metadata": {},
   "outputs": [],
   "source": [
    "from sklearn.metrics import confusion_matrix"
   ]
  },
  {
   "cell_type": "code",
   "execution_count": 96,
   "metadata": {},
   "outputs": [],
   "source": [
    "def plot_confusion_matrix(true, preds, classes):\n",
    "    cmatrix = confusion_matrix(true, preds)\n",
    "    threshold = np.min(np.diagonal(cmatrix))\n",
    "    fig, ax = plt.subplots()\n",
    "    ax.set(xticks=np.arange(cmatrix.shape[1]),\n",
    "           yticks=np.arange(cmatrix.shape[0]),\n",
    "           xticklabels=classes,\n",
    "           yticklabels=classes,\n",
    "           ylabel='True label',\n",
    "           xlabel='Predicted label')\n",
    "    ax.tick_params(axis='x', labelrotation=90)\n",
    "    for i in range(cmatrix.shape[0]):\n",
    "        for j in range(cmatrix.shape[1]):\n",
    "            if cmatrix[i,j] > 0:\n",
    "                ax.text(j, i, cmatrix[i, j], ha='center', va='center', color='white' if cmatrix[i, j] < threshold else 'black')\n",
    "    fig.set_size_inches(18.5, 10.5)\n",
    "    fig.tight_layout()\n",
    "    ax.imshow(cmatrix)\n",
    "    "
   ]
  },
  {
   "cell_type": "code",
   "execution_count": 75,
   "metadata": {},
   "outputs": [],
   "source": [
    "def get_labels_and_predictions(model, dataloader):\n",
    "    preds, labels = [], []\n",
    "    for data, label in tqdm(dataloader):\n",
    "        data = data.to(device)\n",
    "        output = model(data)\n",
    "        _, pred = torch.max(output, 1)\n",
    "        if len(label) != len(pred):\n",
    "            print('UH OH', len(label), len(pred), label, pred)\n",
    "        labels.append(label.detach().numpy())\n",
    "        preds.append(pred.cpu().detach().numpy())\n",
    "    preds = np.concatenate(preds, axis=0)\n",
    "    labels = np.concatenate(labels, axis=0)\n",
    "    print(len(labels), len(preds))\n",
    "    return preds, labels"
   ]
  },
  {
   "cell_type": "code",
   "execution_count": 30,
   "metadata": {},
   "outputs": [
    {
     "name": "stdout",
     "output_type": "stream",
     "text": [
      "tensor([9, 7, 5, 1, 0, 0, 7, 8]) [9 7 5 1 0 0 7 8]\n"
     ]
    }
   ],
   "source": [
    "val_data = []\n",
    "val_labels = []\n",
    "for batch, labels in dataloaders_dict['val']:\n",
    "    batch.to(device)\n",
    "    val_data = batch\n",
    "    val_labels = labels\n",
    "    break\n",
    "\n",
    "val_data = val_data.to(device)\n",
    "outputs = model_ft(val_data)\n",
    "_, val_preds = torch.max(outputs, 1)\n",
    "val_preds = val_preds.cpu().detach().numpy()\n",
    "print(val_labels, val_preds)"
   ]
  },
  {
   "cell_type": "code",
   "execution_count": 76,
   "metadata": {},
   "outputs": [
    {
     "name": "stderr",
     "output_type": "stream",
     "text": [
      "100%|██████████████████████████████████████████████████████████████████████████████████| 61/61 [00:07<00:00,  8.50it/s]"
     ]
    },
    {
     "name": "stdout",
     "output_type": "stream",
     "text": [
      "481 481\n"
     ]
    },
    {
     "name": "stderr",
     "output_type": "stream",
     "text": [
      "\n"
     ]
    }
   ],
   "source": [
    "val_preds_full, val_true_full = get_labels_and_predictions(model_ft, dataloaders_dict['val'])"
   ]
  },
  {
   "cell_type": "code",
   "execution_count": 98,
   "metadata": {},
   "outputs": [
    {
     "name": "stderr",
     "output_type": "stream",
     "text": [
      "100%|████████████████████████████████████████████████████████████████████████████████| 280/280 [00:12<00:00, 22.59it/s]"
     ]
    },
    {
     "name": "stdout",
     "output_type": "stream",
     "text": [
      "2240 2240\n"
     ]
    },
    {
     "name": "stderr",
     "output_type": "stream",
     "text": [
      "\n"
     ]
    }
   ],
   "source": [
    "train_preds_full, train_true_full = get_labels_and_predictions(model_ft, dataloaders_dict['train'])"
   ]
  },
  {
   "cell_type": "code",
   "execution_count": 77,
   "metadata": {},
   "outputs": [
    {
     "name": "stdout",
     "output_type": "stream",
     "text": [
      "[7 4 4 3 9 9 6 4 7 8 9 5 2 0 1 3 7 8 4 5 8 5 3 0 1 4 6 0 9 5 0 2 2 4 2 3 9\n",
      " 8 5 8 6 0 1 5 0 7 3 3 1 5 9 0 8 7 7 4 5 0 3 6 2 5 4 3 4 0 9 5 7 1 5 3 1 4\n",
      " 8 3 0 9 2 7 3 2 4 2 5 7 1 9 6 2 0 0 3 5 1 8 0 8 5 0 6 3 4 6 5 8 9 9 9 0 2\n",
      " 4 9 8 9 7 6 5 9 5 4 7 2 8 1 8 6 7 8 7 5 3 1 6 7 2 4 2 8 4 3 6 4 6 7 9 8 6\n",
      " 9 9 1 5 6 1 3 7 2 3 5 6 1 1 5 0 2 1 3 3 7 4 9 0 7 6 3 9 2 4 6 8 1 3 9 2 7\n",
      " 1 4 5 4 4 5 7 7 2 6 5 3 5 8 1 4 6 1 6 5 7 9 0 7 3 1 1 2 0 3 4 2 4 6 8 6 5\n",
      " 1 0 9 1 3 9 9 9 4 8 3 4 0 6 1 8 0 7 7 1 3 9 7 8 1 1 2 7 8 3 5 9 6 2 6 1 5\n",
      " 9 3 6 2 6 2 1 7 8 7 2 0 0 0 5 9 2 0 4 8 4 8 4 5 6 3 9 8 3 2 5 3 7 5 0 5 6\n",
      " 0 7 5 7 4 9 5 8 0 0 8 5 7 7 4 6 9 7 8 2 3 8 4 7 0 6 1 7 1 8 5 8 9 4 3 8 1\n",
      " 8 9 2 0 9 5 3 4 9 6 4 2 7 6 8 0 7 7 4 1 6 0 3 4 1 7 0 0 0 5 5 2 2 9 5 0 1\n",
      " 4 0 2 0 8 6 3 0 1 9 8 4 7 6 9 5 7 0 0 2 0 0 7 1 8 9 7 3 1 6 3 2 1 0 8 5 9\n",
      " 4 4 2 1 8 2 1 1 4 1 0 2 0 5 3 9 6 3 3 5 2 6 4 2 8 8 2 8 7 6 6 7 7 7 3 4 0\n",
      " 4 7 4 2 4 4 2 0 7 2 7 4 7 3 3 9 4 6 2 3 7 2 3 3 5 8 8 1 3 9 4 6 3 8 5 6 6]\n",
      "[7 4 4 3 9 9 6 4 5 8 9 5 2 0 1 3 7 8 4 7 8 5 3 0 1 4 6 0 9 5 0 2 2 4 2 3 9\n",
      " 8 5 8 6 0 1 5 0 7 3 3 1 5 9 0 8 7 7 4 5 0 3 6 9 5 4 3 4 0 9 5 7 1 5 3 6 4\n",
      " 8 3 0 9 2 7 3 2 4 2 7 1 1 9 6 2 0 0 3 5 1 8 0 8 5 0 6 3 4 6 5 8 9 9 9 0 2\n",
      " 4 9 8 9 7 6 5 9 5 4 7 2 8 1 8 6 7 8 7 7 3 1 6 7 2 4 2 8 4 3 6 4 6 7 9 8 6\n",
      " 9 9 1 5 6 1 3 7 2 3 5 6 1 1 5 0 2 1 3 3 0 4 9 0 7 6 3 9 2 4 6 8 1 3 2 2 7\n",
      " 9 4 5 4 9 5 7 7 2 6 5 3 5 2 1 4 6 1 6 5 7 9 0 7 3 1 1 2 0 3 4 2 4 6 8 6 5\n",
      " 1 0 9 1 3 9 2 9 4 8 3 4 0 6 1 8 0 7 7 1 3 9 7 8 1 1 2 7 8 3 1 9 6 2 6 1 5\n",
      " 9 3 6 2 6 2 1 7 8 7 2 0 0 0 5 9 7 0 4 8 4 8 4 5 6 3 9 8 3 5 5 3 5 5 0 5 6\n",
      " 0 7 5 7 7 9 5 8 0 0 8 7 7 7 4 6 9 7 8 2 3 8 4 7 0 6 1 3 1 8 5 8 9 4 3 8 1\n",
      " 8 9 2 0 9 5 3 4 9 6 4 2 7 6 8 0 7 7 4 1 6 0 3 4 1 7 0 0 0 5 5 2 2 9 7 0 1\n",
      " 4 0 2 0 8 6 3 0 1 9 8 4 0 6 9 5 7 0 0 2 0 0 7 1 8 9 1 3 1 6 3 2 1 0 8 5 9\n",
      " 4 4 2 1 8 2 1 1 4 1 0 2 0 1 3 9 6 3 3 5 2 6 4 2 8 8 2 8 5 6 6 7 7 7 3 4 0\n",
      " 4 7 4 2 4 4 2 0 0 2 7 4 7 3 3 9 4 6 2 3 7 2 2 3 5 8 8 1 3 9 4 6 3 8 5 6 6]\n"
     ]
    }
   ],
   "source": [
    "print(val_preds_full)\n",
    "print(val_true_full)"
   ]
  },
  {
   "cell_type": "code",
   "execution_count": 97,
   "metadata": {},
   "outputs": [
    {
     "data": {
      "image/png": "[encoded data removed]",
      "text/plain": [
       "<Figure size 1332x756 with 1 Axes>"
      ]
     },
     "metadata": {
      "needs_background": "light"
     },
     "output_type": "display_data"
    }
   ],
   "source": [
    "plot_confusion_matrix(val_true_full, val_preds_full, image_datasets['val'].classes)"
   ]
  },
  {
   "cell_type": "code",
   "execution_count": 99,
   "metadata": {},
   "outputs": [
    {
     "data": {
      "image/png": "[encoded data removed]",
      "text/plain": [
       "<Figure size 1332x756 with 1 Axes>"
      ]
     },
     "metadata": {
      "needs_background": "light"
     },
     "output_type": "display_data"
    }
   ],
   "source": [
    "plot_confusion_matrix(train_true_full, train_preds_full, image_datasets['train'].classes)"
   ]
  },
  {
   "cell_type": "code",
   "execution_count": 92,
   "metadata": {},
   "outputs": [
    {
     "name": "stdout",
     "output_type": "stream",
     "text": [
      "53\n"
     ]
    }
   ],
   "source": [
    "print(len(val_true_full[val_true_full == 0]))"
   ]
  }
 ],
 "metadata": {
  "kernelspec": {
   "display_name": "Python 3",
   "language": "python",
   "name": "python3"
  },
  "language_info": {
   "codemirror_mode": {
    "name": "ipython",
    "version": 3
   },
   "file_extension": ".py",
   "mimetype": "text/x-python",
   "name": "python",
   "nbconvert_exporter": "python",
   "pygments_lexer": "ipython3",
   "version": "3.7.6"
  }
 },
 "nbformat": 4,
 "nbformat_minor": 4
}
