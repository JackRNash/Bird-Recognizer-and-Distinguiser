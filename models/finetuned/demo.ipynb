{
 "cells": [
  {
   "cell_type": "code",
   "execution_count": null,
   "metadata": {},
   "outputs": [],
   "source": [
    "import torch\n",
    "import torch.nn as nn\n",
    "import torch.optim as optim\n",
    "import numpy as np\n",
    "import torchvision\n",
    "from torchvision import datasets, models, transforms\n",
    "import matplotlib.pyplot as plt\n",
    "import time\n",
    "import os\n",
    "import copy\n",
    "from tqdm import tqdm\n",
    "torch.manual_seed(4701)\n",
    "np.random.seed(4701)\n",
    "\n",
    "device = torch.device(\"cuda:0\" if torch.cuda.is_available() else \"cpu\")\n",
    "model_ft = torch.load('model')\n",
    "model_ft.to(device)\n",
    "\n"
   ]
  },
  {
   "cell_type": "code",
   "execution_count": null,
   "metadata": {},
   "outputs": [],
   "source": [
    "# Creates a dataloader object for the training and validation sets\n",
    "train_dataset = datasets.ImageFolder(os.path.join(data_dir, 'train'), transforms.Compose([transforms.ToTensor()]))\n",
    "train_dataloader = torch.utils.data.DataLoader(train_dataset, \\\n",
    "    batch_size=batch_size, shuffle=True, num_workers=4)\n",
    "\n",
    "mean, std = calc_mean_std(train_dataloader)"
   ]
  },
  {
   "cell_type": "code",
   "execution_count": null,
   "metadata": {},
   "outputs": [],
   "source": [
    "def softmax(x):\n",
    "    # https://stackoverflow.com/questions/34968722/how-to-implement-the-softmax-function-in-python\n",
    "    return np.exp(x) / np.sum(np.exp(x), axis=0)"
   ]
  },
  {
   "cell_type": "code",
   "execution_count": null,
   "metadata": {},
   "outputs": [],
   "source": [
    "def k_mismatches(model, dataloader, k, predicate=(lambda x, y: x != y)):\n",
    "    mismatches = []\n",
    "    count = 0\n",
    "    for data, label in dataloader:\n",
    "        data = data.to(device)\n",
    "        output = model(data)\n",
    "        _, prediction = torch.max(output, 1)\n",
    "        for i, (p, l) in enumerate(zip(prediction, label)):\n",
    "            if predicate(p, l):\n",
    "                count += 1\n",
    "                mismatches.append((p.item(), l.item(), data[i].cpu().numpy(), softmax(output[i].cpu().detach().numpy())))\n",
    "                if count == k:\n",
    "                    return mismatches  \n",
    "    return mismatches"
   ]
  },
  {
   "cell_type": "code",
   "execution_count": null,
   "metadata": {},
   "outputs": [],
   "source": [
    "def unnormalize(img, mean, std):\n",
    "    # img_unnormalized = std * (img + mean)\n",
    "    img = copy.deepcopy(img)\n",
    "    for i in range(img.shape[-1]):\n",
    "        assert (i <= 2)\n",
    "#         print(std[i], mean[i])\n",
    "        img[:, :, i] *= std[i]\n",
    "        img[:, :, i] += mean[i]\n",
    "    return img"
   ]
  },
  {
   "cell_type": "code",
   "execution_count": null,
   "metadata": {},
   "outputs": [],
   "source": [
    "def display_k_mismatches(k, mismatches):\n",
    "    fig, axs = plt.subplots(2, 2)\n",
    "#     fig, axs = plt.subplots(2)\n",
    "    fig.set_size_inches(10, 10)\n",
    "    for i in range(k):\n",
    "    # i = 1\n",
    "    #     print(mismatches[i][3])\n",
    "    #     print(classes)\n",
    "        predicted = mismatches[i][0]\n",
    "        actual = mismatches[i][1]\n",
    "        axs[i//2, i % 2].set_title('Predicted: {} ({:.1f}% confidence)\\nActually: {} ({:.1f}% confidence)'.format(\n",
    "#         axs[i].set_title('Predicted: {} ({:.1f}% confidence)\\nActually: {} ({:.1f}% confidence)'.format(\n",
    "            classes[predicted],\n",
    "            mismatches[i][3][predicted]*100,\n",
    "            classes[mismatches[i][1]],\n",
    "            mismatches[i][3][actual]*100\n",
    "            ))\n",
    "\n",
    "        # print(unnormalize(mismatches[i][2].transpose(1, 2, 0), mean, std))\n",
    "        axs[i//2, i % 2].imshow(unnormalize(mismatches[i][2].transpose(1, 2, 0), mean, std))\n",
    "#         axs[i].imshow(unnormalize(mismatches[i][2].transpose(1, 2, 0), mean, std))\n",
    "    fig.savefig('figs/4mismatches.png')\n",
    "    fig.show()\n",
    "display_k_mismatches(k, mismatches)"
   ]
  }
 ],
 "metadata": {
  "kernelspec": {
   "display_name": "Python 3",
   "language": "python",
   "name": "python3"
  },
  "language_info": {
   "codemirror_mode": {
    "name": "ipython",
    "version": 3
   },
   "file_extension": ".py",
   "mimetype": "text/x-python",
   "name": "python",
   "nbconvert_exporter": "python",
   "pygments_lexer": "ipython3",
   "version": "3.7.6"
  }
 },
 "nbformat": 4,
 "nbformat_minor": 4
}
